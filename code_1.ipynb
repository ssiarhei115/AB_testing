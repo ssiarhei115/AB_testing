{
 "cells": [
  {
   "cell_type": "markdown",
   "metadata": {},
   "source": [
    "### ANALYSIS OF THE EFFECTIVENESS OF TWO MAIN PAGE OPTIONS FOR COMPANY's WEBSITE\n",
    "\n",
    "A travel company plans to launch a new promotion to sell as many tours as possible. The team developed two versions of the landing page for the official website and conducted A/B testing. As a result of the experiment, data was collected\n",
    "\n",
    "The main task: analyze the effectiveness of both landing page options according to two criterias at once - purchase conversion and daily average check.\n",
    "\n",
    "Answer the travel agency’s key question: which landing page option is more preferable in terms of conversion metrics and daily average check?\n",
    "\n",
    "So, the company offers the following tour options:\n",
    "* Thailand - 100,000 rubles;\n",
    "* Türkiye - 60,000 rubles;\n",
    "* Maldives - 200,000 rubles;\n",
    "* St. Petersburg - 10,000 rubles;\n",
    "* Kamchatka - 150,000 rubles.\n"
   ]
  },
  {
   "cell_type": "code",
   "execution_count": 57,
   "metadata": {},
   "outputs": [],
   "source": [
    "import pandas as pd\n",
    "import seaborn as sns\n",
    "import matplotlib.pyplot as plt\n",
    "from statsmodels.stats.proportion import proportions_ztest\n",
    "from scipy.stats import shapiro\n",
    "from scipy.stats import ttest_ind\n",
    "from scipy.stats import norm\n",
    "from scipy.stats import t\n",
    "\n",
    "import warnings\n",
    "def ignore_warn(*args, **kwargs):\n",
    "    pass\n",
    "warnings.warn = ignore_warn"
   ]
  },
  {
   "cell_type": "code",
   "execution_count": 58,
   "metadata": {},
   "outputs": [
    {
     "data": {
      "text/html": [
       "<div>\n",
       "<style scoped>\n",
       "    .dataframe tbody tr th:only-of-type {\n",
       "        vertical-align: middle;\n",
       "    }\n",
       "\n",
       "    .dataframe tbody tr th {\n",
       "        vertical-align: top;\n",
       "    }\n",
       "\n",
       "    .dataframe thead th {\n",
       "        text-align: right;\n",
       "    }\n",
       "</style>\n",
       "<table border=\"1\" class=\"dataframe\">\n",
       "  <thead>\n",
       "    <tr style=\"text-align: right;\">\n",
       "      <th></th>\n",
       "      <th>user_id</th>\n",
       "      <th>date</th>\n",
       "      <th>group</th>\n",
       "      <th>purchase</th>\n",
       "      <th>price</th>\n",
       "    </tr>\n",
       "  </thead>\n",
       "  <tbody>\n",
       "    <tr>\n",
       "      <th>0</th>\n",
       "      <td>851104</td>\n",
       "      <td>2021-01-21</td>\n",
       "      <td>A</td>\n",
       "      <td>0</td>\n",
       "      <td>0</td>\n",
       "    </tr>\n",
       "    <tr>\n",
       "      <th>1</th>\n",
       "      <td>804228</td>\n",
       "      <td>2021-01-12</td>\n",
       "      <td>A</td>\n",
       "      <td>0</td>\n",
       "      <td>0</td>\n",
       "    </tr>\n",
       "    <tr>\n",
       "      <th>2</th>\n",
       "      <td>661590</td>\n",
       "      <td>2021-01-11</td>\n",
       "      <td>B</td>\n",
       "      <td>0</td>\n",
       "      <td>0</td>\n",
       "    </tr>\n",
       "  </tbody>\n",
       "</table>\n",
       "</div>"
      ],
      "text/plain": [
       "   user_id        date group  purchase  price\n",
       "0   851104  2021-01-21     A         0      0\n",
       "1   804228  2021-01-12     A         0      0\n",
       "2   661590  2021-01-11     B         0      0"
      ]
     },
     "execution_count": 58,
     "metadata": {},
     "output_type": "execute_result"
    }
   ],
   "source": [
    "df = pd.read_csv('data/ab_data_tourist.csv')\n",
    "df.head(3)"
   ]
  },
  {
   "cell_type": "markdown",
   "metadata": {},
   "source": [
    "\n",
    "        user_id — identifier of the user who visited the site;\n",
    "        data — date of site visit;\n",
    "        group — test group (control — A or test — B);\n",
    "        purchase — purchase sign: whether the user made a purchase of the tour (1 — yes, 0 — no);\n",
    "        price — the price of the purchased tour (if the purchase did not take place, the price is 0)."
   ]
  },
  {
   "cell_type": "markdown",
   "metadata": {},
   "source": [
    "### 1. Data structure analysis and preprocessing:\n",
    "* research of data structure;\n",
    "* converting columns to the required data types.\n",
    "* Make sure that the duration of A/B testing is the same in each group.\n",
    "* Checking data for gaps.\n",
    "* Checking whether there are users who fell into both groups during the A/B test.\n"
   ]
  },
  {
   "cell_type": "code",
   "execution_count": 59,
   "metadata": {},
   "outputs": [
    {
     "name": "stdout",
     "output_type": "stream",
     "text": [
      "<class 'pandas.core.frame.DataFrame'>\n",
      "RangeIndex: 294478 entries, 0 to 294477\n",
      "Data columns (total 5 columns):\n",
      " #   Column    Non-Null Count   Dtype         \n",
      "---  ------    --------------   -----         \n",
      " 0   user_id   294478 non-null  int64         \n",
      " 1   date      294478 non-null  datetime64[ns]\n",
      " 2   group     294478 non-null  object        \n",
      " 3   purchase  294478 non-null  int64         \n",
      " 4   price     294478 non-null  int64         \n",
      "dtypes: datetime64[ns](1), int64(3), object(1)\n",
      "memory usage: 11.2+ MB\n"
     ]
    }
   ],
   "source": [
    "df['date'] = pd.to_datetime(df['date'], format='%Y-%m-%d')\n",
    "df.info()"
   ]
  },
  {
   "cell_type": "code",
   "execution_count": 60,
   "metadata": {},
   "outputs": [
    {
     "data": {
      "text/html": [
       "<div>\n",
       "<style scoped>\n",
       "    .dataframe tbody tr th:only-of-type {\n",
       "        vertical-align: middle;\n",
       "    }\n",
       "\n",
       "    .dataframe tbody tr th {\n",
       "        vertical-align: top;\n",
       "    }\n",
       "\n",
       "    .dataframe thead th {\n",
       "        text-align: right;\n",
       "    }\n",
       "</style>\n",
       "<table border=\"1\" class=\"dataframe\">\n",
       "  <thead>\n",
       "    <tr style=\"text-align: right;\">\n",
       "      <th></th>\n",
       "      <th>count</th>\n",
       "      <th>mean</th>\n",
       "      <th>min</th>\n",
       "      <th>25%</th>\n",
       "      <th>50%</th>\n",
       "      <th>75%</th>\n",
       "      <th>max</th>\n",
       "    </tr>\n",
       "    <tr>\n",
       "      <th>group</th>\n",
       "      <th></th>\n",
       "      <th></th>\n",
       "      <th></th>\n",
       "      <th></th>\n",
       "      <th></th>\n",
       "      <th></th>\n",
       "      <th></th>\n",
       "    </tr>\n",
       "  </thead>\n",
       "  <tbody>\n",
       "    <tr>\n",
       "      <th>A</th>\n",
       "      <td>147202</td>\n",
       "      <td>2021-01-13 01:55:49.470795520</td>\n",
       "      <td>2021-01-02 00:00:00</td>\n",
       "      <td>2021-01-08 00:00:00</td>\n",
       "      <td>2021-01-13 00:00:00</td>\n",
       "      <td>2021-01-19 00:00:00</td>\n",
       "      <td>2021-01-24 00:00:00</td>\n",
       "    </tr>\n",
       "    <tr>\n",
       "      <th>B</th>\n",
       "      <td>147276</td>\n",
       "      <td>2021-01-13 01:23:47.034955008</td>\n",
       "      <td>2021-01-02 00:00:00</td>\n",
       "      <td>2021-01-08 00:00:00</td>\n",
       "      <td>2021-01-13 00:00:00</td>\n",
       "      <td>2021-01-19 00:00:00</td>\n",
       "      <td>2021-01-24 00:00:00</td>\n",
       "    </tr>\n",
       "  </tbody>\n",
       "</table>\n",
       "</div>"
      ],
      "text/plain": [
       "        count                           mean                  min   \n",
       "group                                                               \n",
       "A      147202  2021-01-13 01:55:49.470795520  2021-01-02 00:00:00  \\\n",
       "B      147276  2021-01-13 01:23:47.034955008  2021-01-02 00:00:00   \n",
       "\n",
       "                       25%                  50%                  75%   \n",
       "group                                                                  \n",
       "A      2021-01-08 00:00:00  2021-01-13 00:00:00  2021-01-19 00:00:00  \\\n",
       "B      2021-01-08 00:00:00  2021-01-13 00:00:00  2021-01-19 00:00:00   \n",
       "\n",
       "                       max  \n",
       "group                       \n",
       "A      2021-01-24 00:00:00  \n",
       "B      2021-01-24 00:00:00  "
      ]
     },
     "execution_count": 60,
     "metadata": {},
     "output_type": "execute_result"
    }
   ],
   "source": [
    "df.groupby('group')['date'].describe()"
   ]
  },
  {
   "cell_type": "code",
   "execution_count": 61,
   "metadata": {},
   "outputs": [
    {
     "name": "stdout",
     "output_type": "stream",
     "text": [
      "Users_ids appeared in both groups: 1895\n"
     ]
    },
    {
     "data": {
      "text/plain": [
       "(290688, 5)"
      ]
     },
     "execution_count": 61,
     "metadata": {},
     "output_type": "execute_result"
    }
   ],
   "source": [
    "ids_a = set(df[df['group']=='A']['user_id'].unique()) \n",
    "ids_b = set(df[df['group']=='B']['user_id'].unique())\n",
    "print(f\"Users_ids appeared in both groups: {len(ids_a&ids_b)}\")\n",
    "\n",
    "# exlude users that present in both groups\n",
    "df = df[~df['user_id'].isin(ids_a&ids_b)]\n",
    "df.shape"
   ]
  },
  {
   "cell_type": "code",
   "execution_count": 62,
   "metadata": {},
   "outputs": [
    {
     "name": "stdout",
     "output_type": "stream",
     "text": [
      "Duplicates found: 74\n"
     ]
    },
    {
     "data": {
      "text/plain": [
       "(290614, 5)"
      ]
     },
     "execution_count": 62,
     "metadata": {},
     "output_type": "execute_result"
    }
   ],
   "source": [
    "print(f\"Duplicates found: {df[df.duplicated()].shape[0]}\")\n",
    "df = df.drop_duplicates()\n",
    "df.shape"
   ]
  },
  {
   "cell_type": "markdown",
   "metadata": {},
   "source": [
    "\n",
    "    * The duration of testing in both groups is the same\n",
    "    * there are no nan in the data\n",
    "    * 1895 test participants fell into both groups. Excluded from analysis\n",
    "    * In addition, duplicates were found (74). Also excluded from analysis"
   ]
  },
  {
   "cell_type": "markdown",
   "metadata": {},
   "source": [
    "### 2. Primary analysis of A/B testing results:\n",
    "* Calculate auxiliary indicators for the control and test groups:\n",
    "     * number of site visits;\n",
    "     * total number of purchases made;\n",
    "     * sum of all purchases.\n",
    "    \n",
    "     Draw intermediate conclusions based on the constructed table. Are the number of visits to both landing page options comparable? Can we talk about balanced samples?\n",
    "* For each group, calculate key indicators:\n",
    "     * conversion;\n",
    "     * average bill.\n",
    "\n",
    "     Draw primary conclusions about the results of A/B testing based on conversion rates and average check in each group. According to what indicator(s), at first glance, option A is more effective than option B and vice versa?\n",
    "* Compare A/B options based on the purchasing power of each tour. To do this, build a pivot table that will show the dependence of the number of sales on the group and the price of the tour. Visualize the resulting pivot table.\n",
    "\n",
    "     For which tours is the purchasing power of group A participants higher than the purchasing power of group B participants, and vice versa?\n"
   ]
  },
  {
   "cell_type": "code",
   "execution_count": 63,
   "metadata": {},
   "outputs": [
    {
     "data": {
      "text/html": [
       "<div>\n",
       "<style scoped>\n",
       "    .dataframe tbody tr th:only-of-type {\n",
       "        vertical-align: middle;\n",
       "    }\n",
       "\n",
       "    .dataframe tbody tr th {\n",
       "        vertical-align: top;\n",
       "    }\n",
       "\n",
       "    .dataframe thead th {\n",
       "        text-align: right;\n",
       "    }\n",
       "</style>\n",
       "<table border=\"1\" class=\"dataframe\">\n",
       "  <thead>\n",
       "    <tr style=\"text-align: right;\">\n",
       "      <th></th>\n",
       "      <th>group</th>\n",
       "      <th>users_qty</th>\n",
       "      <th>purchase</th>\n",
       "      <th>price</th>\n",
       "      <th>conversion</th>\n",
       "      <th>av_check</th>\n",
       "    </tr>\n",
       "  </thead>\n",
       "  <tbody>\n",
       "    <tr>\n",
       "      <th>0</th>\n",
       "      <td>A</td>\n",
       "      <td>145268</td>\n",
       "      <td>17487</td>\n",
       "      <td>1417780000</td>\n",
       "      <td>12.037751</td>\n",
       "      <td>81076.228055</td>\n",
       "    </tr>\n",
       "    <tr>\n",
       "      <th>1</th>\n",
       "      <td>B</td>\n",
       "      <td>145346</td>\n",
       "      <td>17290</td>\n",
       "      <td>1533010000</td>\n",
       "      <td>11.895752</td>\n",
       "      <td>88664.545980</td>\n",
       "    </tr>\n",
       "  </tbody>\n",
       "</table>\n",
       "</div>"
      ],
      "text/plain": [
       "  group  users_qty  purchase       price  conversion      av_check\n",
       "0     A     145268     17487  1417780000   12.037751  81076.228055\n",
       "1     B     145346     17290  1533010000   11.895752  88664.545980"
      ]
     },
     "execution_count": 63,
     "metadata": {},
     "output_type": "execute_result"
    }
   ],
   "source": [
    "df2 = df.groupby('group').agg(\n",
    "    {'user_id':'count', \n",
    "     'purchase':'sum', \n",
    "     'price':'sum'}\n",
    "     ).reset_index().rename(columns={'user_id':'users_qty'})\n",
    "\n",
    "df2['conversion'] = df2['purchase'] / df2['users_qty'] * 100\n",
    "df2['av_check'] = df2['price'] / df2['purchase']\n",
    "\n",
    "df2"
   ]
  },
  {
   "cell_type": "code",
   "execution_count": 64,
   "metadata": {},
   "outputs": [
    {
     "data": {
      "text/html": [
       "<div>\n",
       "<style scoped>\n",
       "    .dataframe tbody tr th:only-of-type {\n",
       "        vertical-align: middle;\n",
       "    }\n",
       "\n",
       "    .dataframe tbody tr th {\n",
       "        vertical-align: top;\n",
       "    }\n",
       "\n",
       "    .dataframe thead th {\n",
       "        text-align: right;\n",
       "    }\n",
       "</style>\n",
       "<table border=\"1\" class=\"dataframe\">\n",
       "  <thead>\n",
       "    <tr style=\"text-align: right;\">\n",
       "      <th></th>\n",
       "      <th>group</th>\n",
       "      <th>price</th>\n",
       "      <th>users_qty</th>\n",
       "    </tr>\n",
       "  </thead>\n",
       "  <tbody>\n",
       "    <tr>\n",
       "      <th>0</th>\n",
       "      <td>A</td>\n",
       "      <td>0</td>\n",
       "      <td>127781</td>\n",
       "    </tr>\n",
       "    <tr>\n",
       "      <th>1</th>\n",
       "      <td>A</td>\n",
       "      <td>10000</td>\n",
       "      <td>5182</td>\n",
       "    </tr>\n",
       "    <tr>\n",
       "      <th>2</th>\n",
       "      <td>A</td>\n",
       "      <td>60000</td>\n",
       "      <td>5271</td>\n",
       "    </tr>\n",
       "    <tr>\n",
       "      <th>3</th>\n",
       "      <td>A</td>\n",
       "      <td>100000</td>\n",
       "      <td>1832</td>\n",
       "    </tr>\n",
       "    <tr>\n",
       "      <th>4</th>\n",
       "      <td>A</td>\n",
       "      <td>150000</td>\n",
       "      <td>3478</td>\n",
       "    </tr>\n",
       "    <tr>\n",
       "      <th>5</th>\n",
       "      <td>A</td>\n",
       "      <td>200000</td>\n",
       "      <td>1724</td>\n",
       "    </tr>\n",
       "    <tr>\n",
       "      <th>6</th>\n",
       "      <td>B</td>\n",
       "      <td>0</td>\n",
       "      <td>128056</td>\n",
       "    </tr>\n",
       "    <tr>\n",
       "      <th>7</th>\n",
       "      <td>B</td>\n",
       "      <td>10000</td>\n",
       "      <td>5201</td>\n",
       "    </tr>\n",
       "    <tr>\n",
       "      <th>8</th>\n",
       "      <td>B</td>\n",
       "      <td>60000</td>\n",
       "      <td>1730</td>\n",
       "    </tr>\n",
       "    <tr>\n",
       "      <th>9</th>\n",
       "      <td>B</td>\n",
       "      <td>100000</td>\n",
       "      <td>5227</td>\n",
       "    </tr>\n",
       "    <tr>\n",
       "      <th>10</th>\n",
       "      <td>B</td>\n",
       "      <td>150000</td>\n",
       "      <td>3438</td>\n",
       "    </tr>\n",
       "    <tr>\n",
       "      <th>11</th>\n",
       "      <td>B</td>\n",
       "      <td>200000</td>\n",
       "      <td>1694</td>\n",
       "    </tr>\n",
       "  </tbody>\n",
       "</table>\n",
       "</div>"
      ],
      "text/plain": [
       "   group   price  users_qty\n",
       "0      A       0     127781\n",
       "1      A   10000       5182\n",
       "2      A   60000       5271\n",
       "3      A  100000       1832\n",
       "4      A  150000       3478\n",
       "5      A  200000       1724\n",
       "6      B       0     128056\n",
       "7      B   10000       5201\n",
       "8      B   60000       1730\n",
       "9      B  100000       5227\n",
       "10     B  150000       3438\n",
       "11     B  200000       1694"
      ]
     },
     "execution_count": 64,
     "metadata": {},
     "output_type": "execute_result"
    }
   ],
   "source": [
    "df3 = df.groupby(['group', 'price'])['user_id'].count().reset_index().rename(columns={'user_id':'users_qty'})\n",
    "\n",
    "df3"
   ]
  },
  {
   "cell_type": "code",
   "execution_count": 65,
   "metadata": {},
   "outputs": [
    {
     "data": {
      "image/png": "[encoded data removed]",
      "text/plain": [
       "<Figure size 640x480 with 1 Axes>"
      ]
     },
     "metadata": {},
     "output_type": "display_data"
    }
   ],
   "source": [
    "sns.barplot(df3[df3['price']!=0], x='price', y='users_qty', hue='group').set(title='Users q-ty VS tour type', xlabel='tour type');"
   ]
  },
  {
   "cell_type": "markdown",
   "metadata": {},
   "source": [
    "    * The number of visits to both landing page options is comparable\n",
    "    * Samples can be considered balanced by the number of visits\n",
    "    * conversion, at first glance, is higher in group A, while the average check is higher in group B.\n",
    "    * the difference in purchasing power between groups is most pronounced for tours of the 60,000 and 100,000 categories: in group A there is a relatively higher interest in cheaper tours (60,000), a mirror picture for tours of the 100,000 category: participants in group B purchased almost 3 times more such tours compared to group A. For other rounds, incl. category 0 (purchased nothing) - the numbers are comparable."
   ]
  },
  {
   "cell_type": "markdown",
   "metadata": {},
   "source": [
    "### 3. Analysis of the data to see if the metrics are stabilized\n",
    "\n",
    "* Group data by date and testing group and build a table with daily data on the results of A/B testing. For each group, calculate the daily indicators:\n",
    "     * number of page visits;\n",
    "     * number of purchases;\n",
    "     * amount of purchases.\n",
    "* Add information to the table about the daily conversion (daily number of purchases / daily number of visits) in the group and the daily average check (daily amount of purchases / daily number of purchases).\n",
    "* Calculate cumulative indicators:\n",
    "     * cumulative number of page visits;\n",
    "     * cumulative number of purchases;\n",
    "     * cumulative amount of purchases.\n",
    "* Based on the obtained cumulative indicators, calculate the cumulative conversion and the cumulative average bill.\n",
    "* Build cumulative graphs of conversion and average check in each group by day.\n",
    "\n",
    "Is the A/B test complete? Have the metric values stabilized over time? How do the cumulative scores compare in each group?\n"
   ]
  },
  {
   "cell_type": "code",
   "execution_count": 66,
   "metadata": {},
   "outputs": [
    {
     "data": {
      "text/html": [
       "<div>\n",
       "<style scoped>\n",
       "    .dataframe tbody tr th:only-of-type {\n",
       "        vertical-align: middle;\n",
       "    }\n",
       "\n",
       "    .dataframe tbody tr th {\n",
       "        vertical-align: top;\n",
       "    }\n",
       "\n",
       "    .dataframe thead th {\n",
       "        text-align: right;\n",
       "    }\n",
       "</style>\n",
       "<table border=\"1\" class=\"dataframe\">\n",
       "  <thead>\n",
       "    <tr style=\"text-align: right;\">\n",
       "      <th></th>\n",
       "      <th>date</th>\n",
       "      <th>group</th>\n",
       "      <th>users_qty</th>\n",
       "      <th>purchase</th>\n",
       "      <th>price</th>\n",
       "      <th>conversion</th>\n",
       "      <th>av_check</th>\n",
       "      <th>users_qty_cum</th>\n",
       "      <th>purchase_cum</th>\n",
       "      <th>price_cum</th>\n",
       "      <th>conversion_cum</th>\n",
       "      <th>av_check_cum</th>\n",
       "    </tr>\n",
       "  </thead>\n",
       "  <tbody>\n",
       "    <tr>\n",
       "      <th>0</th>\n",
       "      <td>2021-01-02</td>\n",
       "      <td>A</td>\n",
       "      <td>2854</td>\n",
       "      <td>359</td>\n",
       "      <td>29410000</td>\n",
       "      <td>12.578837</td>\n",
       "      <td>81922.005571</td>\n",
       "      <td>2854.0</td>\n",
       "      <td>359.0</td>\n",
       "      <td>29410000.0</td>\n",
       "      <td>12.578837</td>\n",
       "      <td>8.192201e+06</td>\n",
       "    </tr>\n",
       "    <tr>\n",
       "      <th>1</th>\n",
       "      <td>2021-01-02</td>\n",
       "      <td>B</td>\n",
       "      <td>2861</td>\n",
       "      <td>345</td>\n",
       "      <td>29660000</td>\n",
       "      <td>12.058721</td>\n",
       "      <td>85971.014493</td>\n",
       "      <td>2861.0</td>\n",
       "      <td>345.0</td>\n",
       "      <td>29660000.0</td>\n",
       "      <td>12.058721</td>\n",
       "      <td>8.597101e+06</td>\n",
       "    </tr>\n",
       "    <tr>\n",
       "      <th>2</th>\n",
       "      <td>2021-01-03</td>\n",
       "      <td>A</td>\n",
       "      <td>6595</td>\n",
       "      <td>748</td>\n",
       "      <td>62000000</td>\n",
       "      <td>11.341926</td>\n",
       "      <td>82887.700535</td>\n",
       "      <td>9449.0</td>\n",
       "      <td>1107.0</td>\n",
       "      <td>91410000.0</td>\n",
       "      <td>11.715525</td>\n",
       "      <td>8.257453e+06</td>\n",
       "    </tr>\n",
       "    <tr>\n",
       "      <th>3</th>\n",
       "      <td>2021-01-03</td>\n",
       "      <td>B</td>\n",
       "      <td>6619</td>\n",
       "      <td>754</td>\n",
       "      <td>65960000</td>\n",
       "      <td>11.391449</td>\n",
       "      <td>87480.106101</td>\n",
       "      <td>9480.0</td>\n",
       "      <td>1099.0</td>\n",
       "      <td>95620000.0</td>\n",
       "      <td>11.592827</td>\n",
       "      <td>8.700637e+06</td>\n",
       "    </tr>\n",
       "    <tr>\n",
       "      <th>4</th>\n",
       "      <td>2021-01-04</td>\n",
       "      <td>A</td>\n",
       "      <td>6564</td>\n",
       "      <td>799</td>\n",
       "      <td>64250000</td>\n",
       "      <td>12.172456</td>\n",
       "      <td>80413.016270</td>\n",
       "      <td>16013.0</td>\n",
       "      <td>1906.0</td>\n",
       "      <td>155660000.0</td>\n",
       "      <td>11.902829</td>\n",
       "      <td>8.166842e+06</td>\n",
       "    </tr>\n",
       "  </tbody>\n",
       "</table>\n",
       "</div>"
      ],
      "text/plain": [
       "        date group  users_qty  purchase     price  conversion      av_check   \n",
       "0 2021-01-02     A       2854       359  29410000   12.578837  81922.005571  \\\n",
       "1 2021-01-02     B       2861       345  29660000   12.058721  85971.014493   \n",
       "2 2021-01-03     A       6595       748  62000000   11.341926  82887.700535   \n",
       "3 2021-01-03     B       6619       754  65960000   11.391449  87480.106101   \n",
       "4 2021-01-04     A       6564       799  64250000   12.172456  80413.016270   \n",
       "\n",
       "   users_qty_cum  purchase_cum    price_cum  conversion_cum  av_check_cum  \n",
       "0         2854.0         359.0   29410000.0       12.578837  8.192201e+06  \n",
       "1         2861.0         345.0   29660000.0       12.058721  8.597101e+06  \n",
       "2         9449.0        1107.0   91410000.0       11.715525  8.257453e+06  \n",
       "3         9480.0        1099.0   95620000.0       11.592827  8.700637e+06  \n",
       "4        16013.0        1906.0  155660000.0       11.902829  8.166842e+06  "
      ]
     },
     "metadata": {},
     "output_type": "display_data"
    },
    {
     "data": {
      "text/html": [
       "<div>\n",
       "<style scoped>\n",
       "    .dataframe tbody tr th:only-of-type {\n",
       "        vertical-align: middle;\n",
       "    }\n",
       "\n",
       "    .dataframe tbody tr th {\n",
       "        vertical-align: top;\n",
       "    }\n",
       "\n",
       "    .dataframe thead tr th {\n",
       "        text-align: left;\n",
       "    }\n",
       "\n",
       "    .dataframe thead tr:last-of-type th {\n",
       "        text-align: right;\n",
       "    }\n",
       "</style>\n",
       "<table border=\"1\" class=\"dataframe\">\n",
       "  <thead>\n",
       "    <tr>\n",
       "      <th></th>\n",
       "      <th colspan=\"2\" halign=\"left\">conversion</th>\n",
       "      <th colspan=\"2\" halign=\"left\">av_check</th>\n",
       "    </tr>\n",
       "    <tr>\n",
       "      <th></th>\n",
       "      <th>mean</th>\n",
       "      <th>median</th>\n",
       "      <th>mean</th>\n",
       "      <th>median</th>\n",
       "    </tr>\n",
       "    <tr>\n",
       "      <th>group</th>\n",
       "      <th></th>\n",
       "      <th></th>\n",
       "      <th></th>\n",
       "      <th></th>\n",
       "    </tr>\n",
       "  </thead>\n",
       "  <tbody>\n",
       "    <tr>\n",
       "      <th>A</th>\n",
       "      <td>12.046456</td>\n",
       "      <td>12.033443</td>\n",
       "      <td>80969.285099</td>\n",
       "      <td>81922.005571</td>\n",
       "    </tr>\n",
       "    <tr>\n",
       "      <th>B</th>\n",
       "      <td>11.900468</td>\n",
       "      <td>11.833962</td>\n",
       "      <td>88575.715514</td>\n",
       "      <td>87770.935961</td>\n",
       "    </tr>\n",
       "  </tbody>\n",
       "</table>\n",
       "</div>"
      ],
      "text/plain": [
       "      conversion                 av_check              \n",
       "            mean     median          mean        median\n",
       "group                                                  \n",
       "A      12.046456  12.033443  80969.285099  81922.005571\n",
       "B      11.900468  11.833962  88575.715514  87770.935961"
      ]
     },
     "metadata": {},
     "output_type": "display_data"
    }
   ],
   "source": [
    "df4 = df.groupby(['date', 'group']).agg(\n",
    "    {'user_id':'count',\n",
    "     'purchase':'sum',\n",
    "     'price':'sum'}\n",
    ").reset_index().rename(columns={'user_id':'users_qty'})\n",
    "\n",
    "df4['conversion'] = df4['purchase'] / df4['users_qty'] * 100\n",
    "df4['av_check'] = df4['price'] / df4['purchase']\n",
    "\n",
    "for g in ['A','B']:\n",
    "    idx = df4[df4['group']==g].index\n",
    "    df4.loc[idx,'users_qty_cum'] = df4.loc[idx,'users_qty'].cumsum() \n",
    "    df4.loc[idx,'purchase_cum'] = df4.loc[idx,'purchase'].cumsum() \n",
    "    df4.loc[idx,'price_cum'] = df4.loc[idx,'price'].cumsum() \n",
    "\n",
    "df4['conversion_cum'] = df4['purchase_cum'] / df4['users_qty_cum'] * 100\n",
    "df4['av_check_cum'] = df4['price_cum'] / df4['purchase_cum'] * 100\n",
    "\n",
    "display(df4.head())\n",
    "\n",
    "metrics_mean_med = df4.groupby('group')[['conversion', 'av_check']].agg(['mean', 'median'])\n",
    "display(metrics_mean_med)\n"
   ]
  },
  {
   "cell_type": "code",
   "execution_count": 67,
   "metadata": {},
   "outputs": [
    {
     "data": {
      "image/png": "[encoded data removed]",
      "text/plain": [
       "<Figure size 1000x800 with 4 Axes>"
      ]
     },
     "metadata": {},
     "output_type": "display_data"
    }
   ],
   "source": [
    "f,a = plt.subplots(2,2,figsize=(10,8))\n",
    "sns.lineplot(df4, x='date', y='conversion_cum', hue='group', ax=a[0,0]).set(title='Cumulative conversion in groupes');\n",
    "sns.lineplot(df4, x='date', y='av_check_cum', hue='group', ax=a[0,1]).set(title='Cumulative average check in groupes');\n",
    "sns.boxplot(df4, x='conversion', y='group', ax=a[1,0]).set(title='Daily conversion in groupes');\n",
    "sns.boxplot(df4, x=df4['av_check']/1000, y='group', ax=a[1,1]).set(title='Daily average check in groupes', xlabel='average check x10^3');\n",
    "\n",
    "a[0,0].xaxis.set_tick_params(rotation=30)\n",
    "a[0,1].xaxis.set_tick_params(rotation=30)\n",
    "\n",
    "plt.tight_layout()"
   ]
  },
  {
   "cell_type": "markdown",
   "metadata": {},
   "source": [
    "    * taking into account the stabilization of cumulative metrics, the A/B test can be considered completed. The duration of the test was chosen correctly.\n",
    "    * the cumulative conversion throughout almost the entire testing period was slightly higher in group A (with the exception of a short period in the middle of testing). This is consistent with the slightly higher median daily conversion rate in Group A.\n",
    "    * during testing, the cumulative average check was consistently higher in group B. The median value of the daily average check is also significantly higher in group B, but the spread of data on this indicator is smaller."
   ]
  },
  {
   "cell_type": "markdown",
   "metadata": {},
   "source": [
    "### 4. Statistical analysis of A/B testing results:\n",
    "* Formulate statistical hypotheses relevant to business questions and select a statistical test to test them. Check data for normality where necessary.\n",
    "* Using a statistical test apparatus, determine:\n",
    "     * Is there a statistical difference between conversions in groups A and B?\n",
    "     * Is there a statistical difference between the daily average checks in groups A and B?\n",
    "* Support the results of statistical tests by constructing 95% confidence intervals for:\n",
    "     * conversions in each group;\n",
    "     * differences in conversions in groups;\n",
    "     * daily average check in each group.\n",
    "* Interpret the constructed confidence intervals for conversions and the daily average check in groups. Is there overlap between the confidence intervals for the groups? If so, what does this mean?\n"
   ]
  },
  {
   "cell_type": "code",
   "execution_count": 68,
   "metadata": {},
   "outputs": [
    {
     "data": {
      "text/html": [
       "<div>\n",
       "<style scoped>\n",
       "    .dataframe tbody tr th:only-of-type {\n",
       "        vertical-align: middle;\n",
       "    }\n",
       "\n",
       "    .dataframe tbody tr th {\n",
       "        vertical-align: top;\n",
       "    }\n",
       "\n",
       "    .dataframe thead th {\n",
       "        text-align: right;\n",
       "    }\n",
       "</style>\n",
       "<table border=\"1\" class=\"dataframe\">\n",
       "  <thead>\n",
       "    <tr style=\"text-align: right;\">\n",
       "      <th></th>\n",
       "      <th>sum</th>\n",
       "      <th>count</th>\n",
       "    </tr>\n",
       "    <tr>\n",
       "      <th>group</th>\n",
       "      <th></th>\n",
       "      <th></th>\n",
       "    </tr>\n",
       "  </thead>\n",
       "  <tbody>\n",
       "    <tr>\n",
       "      <th>A</th>\n",
       "      <td>17487</td>\n",
       "      <td>145268</td>\n",
       "    </tr>\n",
       "    <tr>\n",
       "      <th>B</th>\n",
       "      <td>17290</td>\n",
       "      <td>145346</td>\n",
       "    </tr>\n",
       "  </tbody>\n",
       "</table>\n",
       "</div>"
      ],
      "text/plain": [
       "         sum   count\n",
       "group               \n",
       "A      17487  145268\n",
       "B      17290  145346"
      ]
     },
     "metadata": {},
     "output_type": "display_data"
    }
   ],
   "source": [
    "converted_piv = df.groupby('group')['purchase'].agg(['sum', 'count'])\n",
    "display(converted_piv)"
   ]
  },
  {
   "cell_type": "code",
   "execution_count": 69,
   "metadata": {},
   "outputs": [
    {
     "name": "stdout",
     "output_type": "stream",
     "text": [
      "p-value:  0.238\n",
      "We have no reason to reject the H0 hypothesis\n"
     ]
    }
   ],
   "source": [
    "# z-test to assess the statistical significance of differences in conversion between groups.\n",
    "# Н0: p(A) = p(B)\n",
    "# Н1: p(A) != p(B)\n",
    "\n",
    "alpha = 0.05 \n",
    "\n",
    "_, p_value = proportions_ztest(\n",
    "    count=converted_piv['sum'], \n",
    "    nobs=converted_piv['count'], \n",
    "    alternative='two-sided',\n",
    ")\n",
    "\n",
    "print('p-value: ', round(p_value, 3))\n",
    "\n",
    "if (p_value <= alpha):\n",
    "    print(\"We reject the H0 hypothesis in favor of the alternative\")\n",
    "else:\n",
    "    print(\"We have no reason to reject the H0 hypothesis\")"
   ]
  },
  {
   "cell_type": "markdown",
   "metadata": {},
   "source": [
    "    Taking into account the given level of significance, it is statistically significant that the conversions in the groups are equal."
   ]
  },
  {
   "cell_type": "code",
   "execution_count": 70,
   "metadata": {},
   "outputs": [
    {
     "name": "stdout",
     "output_type": "stream",
     "text": [
      "p-value for group А 0.25\n",
      "p-value for group B 0.09\n"
     ]
    },
    {
     "data": {
      "image/png": "[encoded data removed]",
      "text/plain": [
       "<Figure size 1000x400 with 2 Axes>"
      ]
     },
     "metadata": {},
     "output_type": "display_data"
    }
   ],
   "source": [
    "# statistic test for assessing daily average check in groupes\n",
    "\n",
    "f, a = plt.subplots(1, 2, figsize=(10, 4))\n",
    "\n",
    "sns.histplot(df4[df4['group']=='A'], x='av_check', ax=a[0]).set(title='Daily aver. check in group A');\n",
    "sns.histplot(df4[df4['group']=='B'], x='av_check', ax=a[1]).set(title='Daily aver. check in group B');\n",
    "\n",
    "# normality test. Shapiro\n",
    "alpha = 0.05 \n",
    "shapiro_a = shapiro(df4[df4['group']=='A']['av_check'])\n",
    "shapiro_b = shapiro(df4[df4['group']=='B']['av_check'])\n",
    "print('p-value for group А', round(shapiro_a.pvalue, 2))\n",
    "print('p-value for group B', round(shapiro_b.pvalue, 2))\n"
   ]
  },
  {
   "cell_type": "markdown",
   "metadata": {},
   "source": [
    "        \n",
    "    Data are normally distributed in both groups. Parametric t-test can be used\n",
    "    "
   ]
  },
  {
   "cell_type": "code",
   "execution_count": 71,
   "metadata": {},
   "outputs": [
    {
     "name": "stdout",
     "output_type": "stream",
     "text": [
      "p-value: 0.0\n",
      "We reject the H0 hypothesis in favor of the alternative\n"
     ]
    }
   ],
   "source": [
    "# t-test for daily average check comparing\n",
    "# H0: mu_a = mu_b\n",
    "# H1: mu_a != mu_b\n",
    "\n",
    "alpha = 0.05\n",
    "\n",
    "results = ttest_ind(\n",
    "    a=df4[df4['group']=='A']['av_check'],\n",
    "    b=df4[df4['group']=='B']['av_check'],\n",
    "    alternative='less'\n",
    ")\n",
    "print('p-value:', round(results.pvalue, 2))\n",
    "\n",
    "if results.pvalue <= alpha:\n",
    "    print(\"We reject the H0 hypothesis in favor of the alternative\")\n",
    "else:\n",
    "    print(\"We have no reason to reject the H0 hypothesis\")"
   ]
  },
  {
   "cell_type": "markdown",
   "metadata": {},
   "source": [
    "    It is statistically significant that the daily average bill is lower in group A"
   ]
  },
  {
   "cell_type": "code",
   "execution_count": 72,
   "metadata": {},
   "outputs": [
    {
     "name": "stdout",
     "output_type": "stream",
     "text": [
      "Confidence range for conversion in group A: (11.87, 12.21)\n",
      "Confidence range for conversion in group B: (11.73, 12.06)\n"
     ]
    }
   ],
   "source": [
    "def proportion_conf_interval(x_p, n, gamma=0.95):  \n",
    "    \"\"\"Count a confidence range bounds for proportion feature\n",
    "\n",
    "    Args:\n",
    "        x_p (aloat): feature mean value \n",
    "        n (int): set size\n",
    "        gamma (float, optional): confidence level. Defaults to 0.95.\n",
    "\n",
    "    Returns:\n",
    "        float: range bounds\n",
    "    \"\"\"\n",
    "    alpha = 1 - gamma\n",
    "    z_crit = -norm.ppf(alpha/2) \n",
    "    eps = z_crit * (x_p * (1 - x_p) / n) ** 0.5 \n",
    "    lower_bound = x_p - eps \n",
    "    upper_bound = x_p + eps\n",
    "    return lower_bound, upper_bound\n",
    "\n",
    "\n",
    "# confidence interval for conversion \n",
    "for g in ['A','B']:\n",
    "    low_bound, up_bound = proportion_conf_interval(\n",
    "    x_p=df[df['group']==g]['purchase'].mean(), \n",
    "    n=df[df['group']==g]['user_id'].count())\n",
    "    print(f'Confidence range for conversion in group {g}: {round(low_bound * 100, 2), round(up_bound * 100, 2)}')\n"
   ]
  },
  {
   "cell_type": "markdown",
   "metadata": {},
   "source": [
    "    with 95% reliability, the conversion of group A lies in the interval (11.87, 12.21)%, and the conversion of group B lies in the interval (11.73, 12.06)%.\n",
    "    Confidence intervals for conversions in groups overlap."
   ]
  },
  {
   "cell_type": "code",
   "execution_count": 73,
   "metadata": {},
   "outputs": [
    {
     "name": "stdout",
     "output_type": "stream",
     "text": [
      "Confidence range for conversion difference: (-0.38, 0.09)\n"
     ]
    }
   ],
   "source": [
    "def diff_proportion_conf_interval(x_p, n, gamma=0.95):\n",
    "    \"\"\"Count a confidence range bounds for proportions difference\n",
    "\n",
    "    Args:\n",
    "        x_p (list): feature mean values \n",
    "        n (list): set sizes\n",
    "        gamma (float, optional): confidence level. Defaults to 0.95.\n",
    "\n",
    "    Returns:\n",
    "        float: range bounds\n",
    "    \"\"\"\n",
    "    alpha = 1 - gamma\n",
    "    diff = x_p[1] - x_p[0] \n",
    "    z_crit = -norm.ppf(alpha/2) \n",
    "    eps = z_crit * (x_p[0] * (1 - x_p[0])/n[0] + x_p[1] * (1 - x_p[1])/n[1]) ** 0.5 \n",
    "    lower_bound = diff - eps \n",
    "    upper_bound = diff + eps \n",
    "    return lower_bound, upper_bound\n",
    "\n",
    "n = [df[df['group']=='A']['user_id'].count(), df[df['group']=='B']['user_id'].count()]\n",
    "x_p = [df[df['group']=='A']['purchase'].mean(), df[df['group']=='B']['purchase'].mean()]\n",
    "\n",
    "# build a confidence interval for the difference in proportions\n",
    "low_bound, up_bound = diff_proportion_conf_interval(x_p=x_p, n=n)\n",
    "print(f'Confidence range for conversion difference: {(round(low_bound*100, 2), round(up_bound*100, 2))}')"
   ]
  },
  {
   "cell_type": "markdown",
   "metadata": {},
   "source": [
    "    There is no statistically significant difference in conversion between groups A and B."
   ]
  },
  {
   "cell_type": "code",
   "execution_count": 74,
   "metadata": {},
   "outputs": [
    {
     "name": "stdout",
     "output_type": "stream",
     "text": [
      "Confidence range for daily average check in group A: (79630, 82308)\n",
      "Confidence range for daily average check in group B: (87626, 89526)\n"
     ]
    }
   ],
   "source": [
    "def t_mean_conf_interval(label, gamma=0.95):  \n",
    "    \"\"\"Count lower and upper bounds of a confidence range\n",
    "\n",
    "    Args:\n",
    "        label (str): group label\n",
    "        gamma (float, optional): сщташвутсу думуд Defaults to 0.95.\n",
    "\n",
    "    Returns:\n",
    "        float: lower and upper bounds\n",
    "    \"\"\"\n",
    "    alpha = 1 - gamma \n",
    "    n = df4[df4['group']==label]['av_check'].count()\n",
    "    k = n - 1\n",
    "    x_mean = df4[df4['group']==label]['av_check'].mean()\n",
    "    x_std = df4[df4['group']==label]['av_check'].std()\n",
    "    t_crit = -t.ppf(alpha/2, k) \n",
    "    eps = t_crit * x_std/(n ** 0.5) \n",
    "    lower_bound = x_mean - eps \n",
    "    upper_bound = x_mean + eps \n",
    "    return lower_bound, upper_bound\n",
    "\n",
    "# confidence interval for the mean with an unknown standard deviation\n",
    "for label in ['A','B']:\n",
    "    low_bound, up_bound = t_mean_conf_interval(label)\n",
    "    print(f'Confidence range for daily average check in group {label}: {(round(low_bound), round(up_bound))}')"
   ]
  },
  {
   "cell_type": "markdown",
   "metadata": {},
   "source": [
    "    * With 95% confidence we can say that the true daily average check is in the interval\n",
    "         * (79630, 82308) - for group A;\n",
    "         * (87626, 89526) - for group B.\n",
    "     * intervals for tested groups do not overlap. the difference is clearly expressed"
   ]
  },
  {
   "cell_type": "markdown",
   "metadata": {},
   "source": [
    "### 5. Summary\n",
    "\n",
    "    * Taking into account the given significance level (0.05), it is statistically significant that the conversions in the groups are equal. In addition, there is no statistically significant difference in conversion between groups A and B.\n",
    "    * Taking into account the specified level of significance (0.05), it is statistically significant that the daily average bill is lower in group A\n",
    "    \n",
    "    Thus, main page design option B is more effective in terms of the daily average check metric. In terms of conversion metrics, both tested options are equivalent.\n",
    "    "
   ]
  }
 ],
 "metadata": {
  "kernelspec": {
   "display_name": "Python 3",
   "language": "python",
   "name": "python3"
  },
  "language_info": {
   "codemirror_mode": {
    "name": "ipython",
    "version": 3
   },
   "file_extension": ".py",
   "mimetype": "text/x-python",
   "name": "python",
   "nbconvert_exporter": "python",
   "pygments_lexer": "ipython3",
   "version": "3.10.12"
  }
 },
 "nbformat": 4,
 "nbformat_minor": 2
}
